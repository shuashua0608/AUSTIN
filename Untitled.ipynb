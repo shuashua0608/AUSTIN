{
 "cells": [
  {
   "cell_type": "code",
   "execution_count": 1,
   "id": "8ebf699f-1f06-4bb7-b2b9-dcbb01732820",
   "metadata": {},
   "outputs": [
    {
     "data": {
      "text/plain": [
       "bool"
      ]
     },
     "execution_count": 1,
     "metadata": {},
     "output_type": "execute_result"
    }
   ],
   "source": [
    "type(True)"
   ]
  },
  {
   "cell_type": "code",
   "execution_count": 3,
   "id": "fdbcb27f-186b-4d0e-9a52-6a41cc4da3bf",
   "metadata": {},
   "outputs": [
    {
     "data": {
      "text/plain": [
       "'-fxf-AST-UNCERTAIN-w-True'"
      ]
     },
     "execution_count": 3,
     "metadata": {},
     "output_type": "execute_result"
    }
   ],
   "source": [
    "w_cal='True'\n",
    "\"-fxf-AST-UNCERTAIN-w-%s\"%(w_cal)"
   ]
  },
  {
   "cell_type": "code",
   "execution_count": null,
   "id": "54370f54-dfc6-4f79-a662-ffaf223f9886",
   "metadata": {},
   "outputs": [],
   "source": []
  },
  {
   "cell_type": "code",
   "execution_count": null,
   "id": "2530d624-21d0-4171-9083-1b93b46309e8",
   "metadata": {},
   "outputs": [],
   "source": []
  }
 ],
 "metadata": {
  "kernelspec": {
   "display_name": "Python 3",
   "language": "python",
   "name": "python3"
  },
  "language_info": {
   "codemirror_mode": {
    "name": "ipython",
    "version": 3
   },
   "file_extension": ".py",
   "mimetype": "text/x-python",
   "name": "python",
   "nbconvert_exporter": "python",
   "pygments_lexer": "ipython3",
   "version": "3.12.7"
  }
 },
 "nbformat": 4,
 "nbformat_minor": 5
}
